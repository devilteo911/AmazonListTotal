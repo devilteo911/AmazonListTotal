{
  "nbformat": 4,
  "nbformat_minor": 0,
  "metadata": {
    "colab": {
      "name": "AmazonListTotalCalculator.ipynb",
      "provenance": [],
      "collapsed_sections": [],
      "authorship_tag": "ABX9TyNLMdjPgUlPvnmbaiRezPmK"
    },
    "kernelspec": {
      "name": "python3",
      "display_name": "Python 3"
    }
  },
  "cells": [
    {
      "cell_type": "code",
      "metadata": {
        "id": "AUL8SqfeRXtj"
      },
      "source": [
        "import requests\n",
        "from bs4 import BeautifulSoup\n",
        "import numpy as np\n",
        "import pandas as pd"
      ],
      "execution_count": null,
      "outputs": []
    },
    {
      "cell_type": "code",
      "metadata": {
        "id": "6jhYune2RBlc"
      },
      "source": [
        "def web_scraper(html_page):\n",
        "    '''\n",
        "    takes an html page and by making a requests\n",
        "    urns all the elements of that page\n",
        "    '''\n",
        "    req = requests.get(html_page)\n",
        "    soup = BeautifulSoup(req.text, \"html.parser\")\n",
        "    prices, names = [], []\n",
        "    # finds all the price of the items shown in the list\n",
        "    for price in soup.find_all('span', class_='a-offscreen'):\n",
        "        price = price.text\n",
        "        price = price.replace(u'\\xa0€', u'')\n",
        "        price = price.replace(u',', u'.')\n",
        "        prices.append(float(price))\n",
        " \n",
        "    # finds all the names\n",
        "    for name in soup.find_all('h3', class_='a-size-base'):\n",
        "        for a in name.children:\n",
        "            title = a.text[:20]\n",
        "            names.append(title)\n",
        "    return prices, names\n",
        " \n",
        "def calculator(URL):\n",
        "    prices, names = web_scraper(URL)\n",
        "    prices = np.asarray(prices)\n",
        "    total = np.sum(prices)\n",
        "    perc_prices = (prices/total)*100\n",
        "    perc_prices = np.around(perc_prices, decimals=2)\n",
        "    return names, prices, perc_prices, total\n",
        " \n",
        " \n",
        "def table_constructor(calc_data):\n",
        "    names, prices, perc_prices, _ =  calc_data\n",
        "    zipped = zip(prices, perc_prices)\n",
        "    col_names = ('Price (€)', '% of total')\n",
        "    df = pd.DataFrame(zipped, columns=col_names, index=names)\n",
        "    df.loc['Total']= df.sum(numeric_only=True, axis=0)\n",
        "    return df"
      ],
      "execution_count": null,
      "outputs": []
    },
    {
      "cell_type": "code",
      "metadata": {
        "id": "rQQ_RRZuSOb9",
        "outputId": "6cf076ac-7d4c-45f8-c833-52d12fb579df",
        "colab": {
          "base_uri": "https://localhost:8080/",
          "height": 314
        }
      },
      "source": [
        "#https://www.amazon.it/hz/wishlist/ls/1TJA5VG35JPQ3?&sort=default\n",
        "URL = input('Insert amazon wishlist url: ')\n",
        " \n",
        "data = calculator(URL)\n",
        " \n",
        "table_constructor(data)"
      ],
      "execution_count": null,
      "outputs": [
        {
          "output_type": "stream",
          "text": [
            "Insert amazon wishlist url: https://www.amazon.it/hz/wishlist/ls/1TJA5VG35JPQ3?&sort=default\n"
          ],
          "name": "stdout"
        },
        {
          "output_type": "execute_result",
          "data": {
            "text/html": [
              "<div>\n",
              "<style scoped>\n",
              "    .dataframe tbody tr th:only-of-type {\n",
              "        vertical-align: middle;\n",
              "    }\n",
              "\n",
              "    .dataframe tbody tr th {\n",
              "        vertical-align: top;\n",
              "    }\n",
              "\n",
              "    .dataframe thead th {\n",
              "        text-align: right;\n",
              "    }\n",
              "</style>\n",
              "<table border=\"1\" class=\"dataframe\">\n",
              "  <thead>\n",
              "    <tr style=\"text-align: right;\">\n",
              "      <th></th>\n",
              "      <th>Price (€)</th>\n",
              "      <th>% of total</th>\n",
              "    </tr>\n",
              "  </thead>\n",
              "  <tbody>\n",
              "    <tr>\n",
              "      <th>MB MSI B450M-A PRO M</th>\n",
              "      <td>64.81</td>\n",
              "      <td>8.23</td>\n",
              "    </tr>\n",
              "    <tr>\n",
              "      <th>AMD Ryzen 5 3600X, P</th>\n",
              "      <td>220.50</td>\n",
              "      <td>28.00</td>\n",
              "    </tr>\n",
              "    <tr>\n",
              "      <th>Corsair VENGEANCELPX</th>\n",
              "      <td>69.99</td>\n",
              "      <td>8.89</td>\n",
              "    </tr>\n",
              "    <tr>\n",
              "      <th>Corsair Carbide 100R</th>\n",
              "      <td>55.30</td>\n",
              "      <td>7.02</td>\n",
              "    </tr>\n",
              "    <tr>\n",
              "      <th>Cooler Master MWE 60</th>\n",
              "      <td>61.98</td>\n",
              "      <td>7.87</td>\n",
              "    </tr>\n",
              "    <tr>\n",
              "      <th>Corsair Force MP510</th>\n",
              "      <td>49.99</td>\n",
              "      <td>6.35</td>\n",
              "    </tr>\n",
              "    <tr>\n",
              "      <th>MSI GeForce GTX 1660</th>\n",
              "      <td>264.99</td>\n",
              "      <td>33.65</td>\n",
              "    </tr>\n",
              "    <tr>\n",
              "      <th>Total</th>\n",
              "      <td>787.56</td>\n",
              "      <td>100.01</td>\n",
              "    </tr>\n",
              "  </tbody>\n",
              "</table>\n",
              "</div>"
            ],
            "text/plain": [
              "                      Price (€)  % of total\n",
              "MB MSI B450M-A PRO M      64.81        8.23\n",
              "AMD Ryzen 5 3600X, P     220.50       28.00\n",
              "Corsair VENGEANCELPX      69.99        8.89\n",
              "Corsair Carbide 100R      55.30        7.02\n",
              "Cooler Master MWE 60      61.98        7.87\n",
              "Corsair Force MP510       49.99        6.35\n",
              "MSI GeForce GTX 1660     264.99       33.65\n",
              "Total                    787.56      100.01"
            ]
          },
          "metadata": {
            "tags": []
          },
          "execution_count": 3
        }
      ]
    }
  ]
}